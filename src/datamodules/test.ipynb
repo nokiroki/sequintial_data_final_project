{
 "cells": [
  {
   "cell_type": "code",
   "execution_count": 13,
   "metadata": {},
   "outputs": [
    {
     "name": "stdout",
     "output_type": "stream",
     "text": [
      "The autoreload extension is already loaded. To reload it, use:\n",
      "  %reload_ext autoreload\n"
     ]
    }
   ],
   "source": [
    "%load_ext autoreload\n",
    "%autoreload 2\n",
    "\n",
    "from datamodule_new_data import TransactionDatasetNewData, TransactionDataModuleNewData"
   ]
  },
  {
   "cell_type": "code",
   "execution_count": 14,
   "metadata": {},
   "outputs": [],
   "source": [
    "dm = TransactionDataModuleNewData('../../data/new_data/normal/')"
   ]
  },
  {
   "cell_type": "code",
   "execution_count": 15,
   "metadata": {},
   "outputs": [],
   "source": [
    "dm.setup('fit')"
   ]
  },
  {
   "cell_type": "code",
   "execution_count": 16,
   "metadata": {},
   "outputs": [],
   "source": [
    "ds = dm.train_dataloader()"
   ]
  },
  {
   "cell_type": "code",
   "execution_count": 25,
   "metadata": {},
   "outputs": [],
   "source": [
    "x = next(iter(ds))"
   ]
  },
  {
   "cell_type": "code",
   "execution_count": 27,
   "metadata": {},
   "outputs": [
    {
     "data": {
      "text/plain": [
       "torch.Size([64, 53, 2])"
      ]
     },
     "execution_count": 27,
     "metadata": {},
     "output_type": "execute_result"
    }
   ],
   "source": [
    "x.shape"
   ]
  },
  {
   "cell_type": "code",
   "execution_count": 29,
   "metadata": {},
   "outputs": [
    {
     "data": {
      "text/plain": [
       "torch.Size([64, 2, 53])"
      ]
     },
     "execution_count": 29,
     "metadata": {},
     "output_type": "execute_result"
    }
   ],
   "source": [
    "x.permute((0, 2, 1)).shape"
   ]
  },
  {
   "cell_type": "code",
   "execution_count": 30,
   "metadata": {},
   "outputs": [
    {
     "data": {
      "text/plain": [
       "tensor([[[ 5.4990e+03,  1.8725e-01],\n",
       "         [ 5.4990e+03,  1.2013e-01],\n",
       "         [ 5.4110e+03, -1.6727e-02],\n",
       "         ...,\n",
       "         [ 0.0000e+00,  0.0000e+00],\n",
       "         [ 0.0000e+00,  0.0000e+00],\n",
       "         [ 0.0000e+00,  0.0000e+00]],\n",
       "\n",
       "        [[ 4.1110e+03,  2.1771e-01],\n",
       "         [ 5.4110e+03,  1.7978e-01],\n",
       "         [ 5.4990e+03,  2.0119e-01],\n",
       "         ...,\n",
       "         [ 0.0000e+00,  0.0000e+00],\n",
       "         [ 0.0000e+00,  0.0000e+00],\n",
       "         [ 0.0000e+00,  0.0000e+00]],\n",
       "\n",
       "        [[ 5.8140e+03,  1.6327e-01],\n",
       "         [ 5.4110e+03,  2.1949e-01],\n",
       "         [ 5.4110e+03,  1.2645e-01],\n",
       "         ...,\n",
       "         [ 0.0000e+00,  0.0000e+00],\n",
       "         [ 0.0000e+00,  0.0000e+00],\n",
       "         [ 0.0000e+00,  0.0000e+00]],\n",
       "\n",
       "        ...,\n",
       "\n",
       "        [[ 6.0110e+03, -3.1110e-01],\n",
       "         [ 6.0110e+03,  9.3322e-01],\n",
       "         [ 5.7320e+03,  2.0926e-01],\n",
       "         ...,\n",
       "         [ 0.0000e+00,  0.0000e+00],\n",
       "         [ 0.0000e+00,  0.0000e+00],\n",
       "         [ 0.0000e+00,  0.0000e+00]],\n",
       "\n",
       "        [[ 6.0110e+03, -8.2114e-02],\n",
       "         [ 5.8140e+03,  2.1491e-01],\n",
       "         [ 5.4110e+03,  1.6554e-01],\n",
       "         ...,\n",
       "         [ 0.0000e+00,  0.0000e+00],\n",
       "         [ 0.0000e+00,  0.0000e+00],\n",
       "         [ 0.0000e+00,  0.0000e+00]],\n",
       "\n",
       "        [[ 5.4990e+03,  9.0361e-02],\n",
       "         [ 5.8140e+03,  2.1241e-01],\n",
       "         [ 5.4110e+03, -1.8497e-01],\n",
       "         ...,\n",
       "         [ 0.0000e+00,  0.0000e+00],\n",
       "         [ 0.0000e+00,  0.0000e+00],\n",
       "         [ 0.0000e+00,  0.0000e+00]]])"
      ]
     },
     "execution_count": 30,
     "metadata": {},
     "output_type": "execute_result"
    }
   ],
   "source": [
    "x"
   ]
  },
  {
   "cell_type": "code",
   "execution_count": null,
   "metadata": {},
   "outputs": [],
   "source": []
  }
 ],
 "metadata": {
  "kernelspec": {
   "display_name": "Python 3.9.15 ('ml')",
   "language": "python",
   "name": "python3"
  },
  "language_info": {
   "codemirror_mode": {
    "name": "ipython",
    "version": 3
   },
   "file_extension": ".py",
   "mimetype": "text/x-python",
   "name": "python",
   "nbconvert_exporter": "python",
   "pygments_lexer": "ipython3",
   "version": "3.9.15"
  },
  "orig_nbformat": 4,
  "vscode": {
   "interpreter": {
    "hash": "45e6302f2b4ec81add0d3758726e649dffe43b2cfc8a72d111ea985a61503901"
   }
  }
 },
 "nbformat": 4,
 "nbformat_minor": 2
}
