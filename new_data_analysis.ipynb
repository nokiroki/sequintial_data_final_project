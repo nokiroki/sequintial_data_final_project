{
 "cells": [
  {
   "cell_type": "code",
   "execution_count": 65,
   "id": "944297ca",
   "metadata": {},
   "outputs": [],
   "source": [
    "import pandas as pd\n",
    "import numpy as np\n",
    "\n",
    "import matplotlib.pyplot as plt\n",
    "\n",
    "from tqdm import tqdm"
   ]
  },
  {
   "cell_type": "code",
   "execution_count": 3,
   "id": "ad54583d",
   "metadata": {},
   "outputs": [],
   "source": [
    "df_transactions = pd.read_parquet('data/new_data/transactions.parquet')"
   ]
  },
  {
   "cell_type": "code",
   "execution_count": 14,
   "id": "13710572",
   "metadata": {},
   "outputs": [
    {
     "data": {
      "text/plain": [
       "user_id\n",
       "3ff7121c8430470495d9c8038226abd6     501\n",
       "75dc65f0032f4a2587a90c7040845d6c     501\n",
       "aa2281c4736845f4b04aa5f4af20a2bd     501\n",
       "bf202825799b488685c852696d56fddf     501\n",
       "765cfdc6ac484dd18f938248553fe266     501\n",
       "                                    ... \n",
       "3ff140e8aa1d471e98f4ed43b5da6c20    2931\n",
       "a86e8e61e76f4390a072e191395963ba    2946\n",
       "fbd79611310047d6886129816d4d582e    2950\n",
       "3f3b5f6cbe7a41cc91fcd76cb796cd78    2952\n",
       "a627f94faada4a50a6fb58b0554719d2    2972\n",
       "Name: transaction_amt, Length: 22533, dtype: int64"
      ]
     },
     "execution_count": 14,
     "metadata": {},
     "output_type": "execute_result"
    }
   ],
   "source": [
    "df_transactions.groupby('user_id')['transaction_amt'].count().sort_values()"
   ]
  },
  {
   "cell_type": "code",
   "execution_count": 4,
   "id": "39f43bfe",
   "metadata": {},
   "outputs": [
    {
     "data": {
      "text/html": [
       "<div>\n",
       "<style scoped>\n",
       "    .dataframe tbody tr th:only-of-type {\n",
       "        vertical-align: middle;\n",
       "    }\n",
       "\n",
       "    .dataframe tbody tr th {\n",
       "        vertical-align: top;\n",
       "    }\n",
       "\n",
       "    .dataframe thead th {\n",
       "        text-align: right;\n",
       "    }\n",
       "</style>\n",
       "<table border=\"1\" class=\"dataframe\">\n",
       "  <thead>\n",
       "    <tr style=\"text-align: right;\">\n",
       "      <th></th>\n",
       "      <th>user_id</th>\n",
       "      <th>mcc_code</th>\n",
       "      <th>currency_rk</th>\n",
       "      <th>transaction_amt</th>\n",
       "      <th>transaction_dttm</th>\n",
       "    </tr>\n",
       "  </thead>\n",
       "  <tbody>\n",
       "    <tr>\n",
       "      <th>0</th>\n",
       "      <td>000932580e404dafbecd5916d4640938</td>\n",
       "      <td>5411</td>\n",
       "      <td>48</td>\n",
       "      <td>-361.07230</td>\n",
       "      <td>2020-08-03 08:05:23</td>\n",
       "    </tr>\n",
       "    <tr>\n",
       "      <th>1</th>\n",
       "      <td>000932580e404dafbecd5916d4640938</td>\n",
       "      <td>5499</td>\n",
       "      <td>48</td>\n",
       "      <td>-137.31398</td>\n",
       "      <td>2020-08-05 01:27:40</td>\n",
       "    </tr>\n",
       "    <tr>\n",
       "      <th>2</th>\n",
       "      <td>000932580e404dafbecd5916d4640938</td>\n",
       "      <td>5499</td>\n",
       "      <td>48</td>\n",
       "      <td>-138.84981</td>\n",
       "      <td>2020-08-05 03:28:11</td>\n",
       "    </tr>\n",
       "    <tr>\n",
       "      <th>3</th>\n",
       "      <td>000932580e404dafbecd5916d4640938</td>\n",
       "      <td>4829</td>\n",
       "      <td>48</td>\n",
       "      <td>-309.47653</td>\n",
       "      <td>2020-08-06 00:36:29</td>\n",
       "    </tr>\n",
       "    <tr>\n",
       "      <th>4</th>\n",
       "      <td>000932580e404dafbecd5916d4640938</td>\n",
       "      <td>5411</td>\n",
       "      <td>48</td>\n",
       "      <td>-133.47370</td>\n",
       "      <td>2020-08-09 00:30:13</td>\n",
       "    </tr>\n",
       "  </tbody>\n",
       "</table>\n",
       "</div>"
      ],
      "text/plain": [
       "                            user_id  mcc_code  currency_rk  transaction_amt  \\\n",
       "0  000932580e404dafbecd5916d4640938      5411           48       -361.07230   \n",
       "1  000932580e404dafbecd5916d4640938      5499           48       -137.31398   \n",
       "2  000932580e404dafbecd5916d4640938      5499           48       -138.84981   \n",
       "3  000932580e404dafbecd5916d4640938      4829           48       -309.47653   \n",
       "4  000932580e404dafbecd5916d4640938      5411           48       -133.47370   \n",
       "\n",
       "      transaction_dttm  \n",
       "0  2020-08-03 08:05:23  \n",
       "1  2020-08-05 01:27:40  \n",
       "2  2020-08-05 03:28:11  \n",
       "3  2020-08-06 00:36:29  \n",
       "4  2020-08-09 00:30:13  "
      ]
     },
     "execution_count": 4,
     "metadata": {},
     "output_type": "execute_result"
    }
   ],
   "source": [
    "df_transactions.head(5)"
   ]
  },
  {
   "cell_type": "code",
   "execution_count": 6,
   "id": "b45c179f",
   "metadata": {},
   "outputs": [
    {
     "data": {
      "image/png": "[encoded data removed]",
      "text/plain": [
       "<Figure size 640x480 with 1 Axes>"
      ]
     },
     "metadata": {},
     "output_type": "display_data"
    }
   ],
   "source": [
    "plt.hist(df_transactions['transaction_amt'], bins=100);"
   ]
  },
  {
   "cell_type": "code",
   "execution_count": 7,
   "id": "a1cec75a",
   "metadata": {},
   "outputs": [
    {
     "data": {
      "text/plain": [
       "(array([6.3366700e+05, 3.3220000e+03, 6.5800000e+02, 8.7430000e+03,\n",
       "        1.4714110e+06, 1.0251431e+07, 6.6164370e+06, 2.4356900e+05,\n",
       "        4.1592500e+05, 1.7674700e+05]),\n",
       " array([-1.0000e+00,  9.3970e+02,  1.8804e+03,  2.8211e+03,  3.7618e+03,\n",
       "         4.7025e+03,  5.6432e+03,  6.5839e+03,  7.5246e+03,  8.4653e+03,\n",
       "         9.4060e+03]),\n",
       " <BarContainer object of 10 artists>)"
      ]
     },
     "execution_count": 7,
     "metadata": {},
     "output_type": "execute_result"
    },
    {
     "data": {
      "image/png": "[encoded data removed]",
      "text/plain": [
       "<Figure size 640x480 with 1 Axes>"
      ]
     },
     "metadata": {},
     "output_type": "display_data"
    }
   ],
   "source": [
    "plt.hist(df_transactions['mcc_code']);"
   ]
  },
  {
   "cell_type": "code",
   "execution_count": 18,
   "id": "3964d5bc",
   "metadata": {},
   "outputs": [
    {
     "data": {
      "text/plain": [
       " 48    19765158\n",
       "-1        27405\n",
       " 50       20364\n",
       " 60        8983\n",
       "Name: currency_rk, dtype: int64"
      ]
     },
     "execution_count": 18,
     "metadata": {},
     "output_type": "execute_result"
    }
   ],
   "source": [
    "df_transactions['currency_rk'].value_counts()"
   ]
  },
  {
   "cell_type": "code",
   "execution_count": 23,
   "id": "b458cd04",
   "metadata": {},
   "outputs": [
    {
     "data": {
      "text/plain": [
       "count    1.976516e+07\n",
       "mean    -6.177175e+02\n",
       "std      9.492894e+03\n",
       "min     -2.300440e+05\n",
       "25%     -7.889437e+02\n",
       "50%     -2.950908e+02\n",
       "75%     -1.123952e+02\n",
       "max      3.463953e+05\n",
       "Name: transaction_amt, dtype: float64"
      ]
     },
     "execution_count": 23,
     "metadata": {},
     "output_type": "execute_result"
    }
   ],
   "source": [
    "df_transactions[df_transactions['currency_rk'] == 48]['transaction_amt'].describe()"
   ]
  },
  {
   "cell_type": "code",
   "execution_count": 25,
   "id": "d16b41b1",
   "metadata": {},
   "outputs": [
    {
     "data": {
      "text/plain": [
       "5411    5665649\n",
       "5499    1740868\n",
       "5814    1579958\n",
       "5921     839260\n",
       "6011     689507\n",
       "         ...   \n",
       "3771          1\n",
       "3196          1\n",
       "3056          1\n",
       "3020          1\n",
       "3405          1\n",
       "Name: mcc_code, Length: 386, dtype: int64"
      ]
     },
     "execution_count": 25,
     "metadata": {},
     "output_type": "execute_result"
    }
   ],
   "source": [
    "df_transactions['mcc_code'].value_counts()"
   ]
  },
  {
   "cell_type": "code",
   "execution_count": 7,
   "id": "872f9785",
   "metadata": {},
   "outputs": [
    {
     "data": {
      "text/plain": [
       "-1       589319\n",
       " 4829    217710\n",
       " 6012     34121\n",
       " 6011     31694\n",
       " 5691     16686\n",
       "          ...  \n",
       " 9406         1\n",
       " 3770         1\n",
       " 7393         1\n",
       " 3366         1\n",
       " 8241         1\n",
       "Name: mcc_code, Length: 262, dtype: int64"
      ]
     },
     "execution_count": 7,
     "metadata": {},
     "output_type": "execute_result"
    }
   ],
   "source": [
    "df_transactions[(df_transactions['transaction_amt'] > 0)]['mcc_code'].value_counts()"
   ]
  },
  {
   "cell_type": "code",
   "execution_count": 19,
   "id": "b7f4a143",
   "metadata": {},
   "outputs": [
    {
     "data": {
      "text/plain": [
       "user_id             623291\n",
       "mcc_code            623291\n",
       "currency_rk         623291\n",
       "transaction_amt     623291\n",
       "transaction_dttm    623291\n",
       "anomaly             623291\n",
       "dtype: int64"
      ]
     },
     "execution_count": 19,
     "metadata": {},
     "output_type": "execute_result"
    }
   ],
   "source": [
    "df_transactions[df_transactions['mcc_code'] == -1].count()"
   ]
  },
  {
   "cell_type": "code",
   "execution_count": 62,
   "id": "d9b22cb7",
   "metadata": {},
   "outputs": [],
   "source": [
    "pos = df_transactions[(df_transactions['mcc_code'] == 5411) & (df_transactions['transaction_amt'] > 0)]['transaction_amt'].quantile(.95)"
   ]
  },
  {
   "cell_type": "code",
   "execution_count": 64,
   "id": "4de2728b",
   "metadata": {},
   "outputs": [
    {
     "name": "stdout",
     "output_type": "stream",
     "text": [
      "5411\n",
      "5499\n",
      "4829\n",
      "5814\n",
      "4789\n",
      "5331\n",
      "5931\n",
      "5541\n",
      "5921\n",
      "5812\n"
     ]
    }
   ],
   "source": [
    "for mcc in df_transactions['mcc_code'].unique()[:10]:\n",
    "    print(mcc)"
   ]
  },
  {
   "cell_type": "markdown",
   "id": "63516f0a",
   "metadata": {},
   "source": [
    "## Anomaly defenition"
   ]
  },
  {
   "cell_type": "code",
   "execution_count": 15,
   "id": "532836f0",
   "metadata": {},
   "outputs": [],
   "source": [
    "df_transactions['anomaly'] = 0"
   ]
  },
  {
   "cell_type": "code",
   "execution_count": 117,
   "id": "73db225f",
   "metadata": {},
   "outputs": [],
   "source": [
    "def check_by_currency_rk():\n",
    "    df_transactions.loc[df_transactions['currency_rk'] != 48, 'anomaly'] = 1\n",
    "\n",
    "def check_by_quantiles():\n",
    "    for mcc in tqdm(df_transactions['mcc_code'].unique()):\n",
    "        pos_pos = df_transactions[(df_transactions['mcc_code'] == mcc) & (df_transactions['transaction_amt'] > 0)]['transaction_amt'].quantile(.99)\n",
    "        pos_neg = df_transactions[(df_transactions['mcc_code'] == mcc) & (df_transactions['transaction_amt'] < 0)]['transaction_amt'].quantile(.1)\n",
    "\n",
    "        answ = df_transactions[df_transactions['mcc_code'] == mcc]['transaction_amt'].apply(lambda x: int(x > pos_pos or x < pos_neg))\n",
    "        df_transactions.loc[answ.index, 'anomaly'] = answ"
   ]
  },
  {
   "cell_type": "code",
   "execution_count": 119,
   "id": "496fdfd4",
   "metadata": {},
   "outputs": [
    {
     "name": "stderr",
     "output_type": "stream",
     "text": [
      "100%|██████████| 386/386 [01:53<00:00,  3.41it/s]\n"
     ]
    }
   ],
   "source": [
    "check_by_quantiles()"
   ]
  },
  {
   "cell_type": "code",
   "execution_count": 120,
   "id": "ef6620b2",
   "metadata": {},
   "outputs": [],
   "source": [
    "check_by_currency_rk()"
   ]
  },
  {
   "cell_type": "code",
   "execution_count": 121,
   "id": "f0af524e",
   "metadata": {},
   "outputs": [
    {
     "data": {
      "text/plain": [
       "1949850"
      ]
     },
     "execution_count": 121,
     "metadata": {},
     "output_type": "execute_result"
    }
   ],
   "source": [
    "df_transactions['anomaly'].sum()"
   ]
  },
  {
   "cell_type": "code",
   "execution_count": null,
   "id": "9136d2a6",
   "metadata": {},
   "outputs": [],
   "source": []
  }
 ],
 "metadata": {
  "kernelspec": {
   "display_name": "Python 3.8.13 ('ml')",
   "language": "python",
   "name": "python3"
  },
  "language_info": {
   "codemirror_mode": {
    "name": "ipython",
    "version": 3
   },
   "file_extension": ".py",
   "mimetype": "text/x-python",
   "name": "python",
   "nbconvert_exporter": "python",
   "pygments_lexer": "ipython3",
   "version": "3.9.15"
  },
  "vscode": {
   "interpreter": {
    "hash": "45e6302f2b4ec81add0d3758726e649dffe43b2cfc8a72d111ea985a61503901"
   }
  }
 },
 "nbformat": 4,
 "nbformat_minor": 5
}
